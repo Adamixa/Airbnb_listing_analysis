{
 "cells": [
  {
   "cell_type": "markdown",
   "source": [
    "# Airbnb analysis:"
   ],
   "metadata": {
    "collapsed": false
   },
   "id": "a20be020805c933"
  },
  {
   "cell_type": "markdown",
   "source": [
    "## 1. Data Loading and Initial Exploration:"
   ],
   "metadata": {
    "collapsed": false
   },
   "id": "a59db84da972ea6b"
  },
  {
   "cell_type": "markdown",
   "source": [
    "### Imports:"
   ],
   "metadata": {
    "collapsed": false
   },
   "id": "ac9dded67795e6cc"
  },
  {
   "cell_type": "code",
   "execution_count": 33,
   "id": "initial_id",
   "metadata": {
    "collapsed": true,
    "ExecuteTime": {
     "end_time": "2024-03-29T19:51:21.855998Z",
     "start_time": "2024-03-29T19:51:21.846542Z"
    }
   },
   "outputs": [],
   "source": [
    "import pandas as pd\n",
    "import matplotlib.pyplot as plt\n",
    "import seaborn as sns\n",
    "import numpy as np"
   ]
  },
  {
   "cell_type": "markdown",
   "source": [
    "### Data Loading:"
   ],
   "metadata": {
    "collapsed": false
   },
   "id": "8edcfd94cd85b080"
  },
  {
   "cell_type": "code",
   "outputs": [],
   "source": [
    "df = pd.read_csv('../Airbnb_Data/Listings.csv', sep = ',', low_memory=False)"
   ],
   "metadata": {
    "collapsed": false,
    "ExecuteTime": {
     "end_time": "2024-03-29T19:51:25.128387Z",
     "start_time": "2024-03-29T19:51:21.987673Z"
    }
   },
   "id": "87c1df447734e617",
   "execution_count": 34
  },
  {
   "cell_type": "code",
   "outputs": [
    {
     "data": {
      "text/plain": "        listing_id                                               name  \\\n0           281420     Beautiful Flat in le Village Montmartre, Paris   \n1          3705183                         39 mÂ² Paris (Sacre CÅ“ur)   \n2          4082273                Lovely apartment with Terrace, 60m2   \n3          4797344                Cosy studio (close to Eiffel tower)   \n4          4823489   Close to Eiffel Tower - Beautiful flat : 2 rooms   \n...            ...                                                ...   \n279707    38338635  Appartement T2 neuf prÃ¨s du tram T3a Porte Didot   \n279708    38538692                          Cozy Studio in Montmartre   \n279709    38683356            Nice and cosy mini-appartement in Paris   \n279710    39659000  Charming apartment near Rue Saint Maur / Oberk...   \n279711    40219504        Cosy apartment with view on Canal St Martin   \n\n         host_id  host_since                 host_location host_response_time  \\\n0        1466919   12/3/2011  Paris, Ile-de-France, France                NaN   \n1       10328771  11/29/2013  Paris, Ile-de-France, France                NaN   \n2       19252768   7/31/2014  Paris, Ile-de-France, France                NaN   \n3       10668311  12/17/2013  Paris, Ile-de-France, France                NaN   \n4       24837558  12/14/2014  Paris, Ile-de-France, France                NaN   \n...          ...         ...                           ...                ...   \n279707  31161181   4/13/2015  Paris, Ile-de-France, France                NaN   \n279708  10294858  11/27/2013  Paris, Ile-de-France, France                NaN   \n279709   2238502   4/27/2012  Paris, Ile-de-France, France                NaN   \n279710  38633695   7/16/2015  Paris, Ile-de-France, France                NaN   \n279711   6955618   6/17/2013  Paris, Ile-de-France, France                NaN   \n\n        host_response_rate  host_acceptance_rate host_is_superhost  \\\n0                      NaN                   NaN                 f   \n1                      NaN                   NaN                 f   \n2                      NaN                   NaN                 f   \n3                      NaN                   NaN                 f   \n4                      NaN                   NaN                 f   \n...                    ...                   ...               ...   \n279707                 NaN                   NaN                 f   \n279708                 NaN                   NaN                 f   \n279709                 NaN                   NaN                 f   \n279710                 NaN                   NaN                 f   \n279711                 NaN                   NaN                 f   \n\n        host_total_listings_count  ... minimum_nights maximum_nights  \\\n0                             1.0  ...              2           1125   \n1                             1.0  ...              2           1125   \n2                             1.0  ...              2           1125   \n3                             1.0  ...              2           1125   \n4                             1.0  ...              2           1125   \n...                           ...  ...            ...            ...   \n279707                        1.0  ...              1              7   \n279708                        1.0  ...              7             15   \n279709                        1.0  ...              6             30   \n279710                        1.0  ...              3             18   \n279711                        1.0  ...              2              4   \n\n       review_scores_rating review_scores_accuracy review_scores_cleanliness  \\\n0                     100.0                   10.0                      10.0   \n1                     100.0                   10.0                      10.0   \n2                     100.0                   10.0                      10.0   \n3                     100.0                   10.0                      10.0   \n4                     100.0                   10.0                      10.0   \n...                     ...                    ...                       ...   \n279707                100.0                   10.0                      10.0   \n279708                100.0                   10.0                      10.0   \n279709                100.0                   10.0                      10.0   \n279710                100.0                   10.0                      10.0   \n279711                100.0                   10.0                      10.0   \n\n        review_scores_checkin  review_scores_communication  \\\n0                        10.0                         10.0   \n1                        10.0                         10.0   \n2                        10.0                         10.0   \n3                        10.0                         10.0   \n4                        10.0                         10.0   \n...                       ...                          ...   \n279707                   10.0                         10.0   \n279708                   10.0                         10.0   \n279709                   10.0                         10.0   \n279710                   10.0                         10.0   \n279711                   10.0                         10.0   \n\n       review_scores_location review_scores_value  instant_bookable  \n0                        10.0                10.0                 f  \n1                        10.0                10.0                 f  \n2                        10.0                10.0                 f  \n3                        10.0                10.0                 f  \n4                        10.0                10.0                 f  \n...                       ...                 ...               ...  \n279707                   10.0                10.0                 f  \n279708                   10.0                10.0                 f  \n279709                   10.0                10.0                 f  \n279710                   10.0                10.0                 f  \n279711                   10.0                10.0                 f  \n\n[279712 rows x 33 columns]",
      "text/html": "<div>\n<style scoped>\n    .dataframe tbody tr th:only-of-type {\n        vertical-align: middle;\n    }\n\n    .dataframe tbody tr th {\n        vertical-align: top;\n    }\n\n    .dataframe thead th {\n        text-align: right;\n    }\n</style>\n<table border=\"1\" class=\"dataframe\">\n  <thead>\n    <tr style=\"text-align: right;\">\n      <th></th>\n      <th>listing_id</th>\n      <th>name</th>\n      <th>host_id</th>\n      <th>host_since</th>\n      <th>host_location</th>\n      <th>host_response_time</th>\n      <th>host_response_rate</th>\n      <th>host_acceptance_rate</th>\n      <th>host_is_superhost</th>\n      <th>host_total_listings_count</th>\n      <th>...</th>\n      <th>minimum_nights</th>\n      <th>maximum_nights</th>\n      <th>review_scores_rating</th>\n      <th>review_scores_accuracy</th>\n      <th>review_scores_cleanliness</th>\n      <th>review_scores_checkin</th>\n      <th>review_scores_communication</th>\n      <th>review_scores_location</th>\n      <th>review_scores_value</th>\n      <th>instant_bookable</th>\n    </tr>\n  </thead>\n  <tbody>\n    <tr>\n      <th>0</th>\n      <td>281420</td>\n      <td>Beautiful Flat in le Village Montmartre, Paris</td>\n      <td>1466919</td>\n      <td>12/3/2011</td>\n      <td>Paris, Ile-de-France, France</td>\n      <td>NaN</td>\n      <td>NaN</td>\n      <td>NaN</td>\n      <td>f</td>\n      <td>1.0</td>\n      <td>...</td>\n      <td>2</td>\n      <td>1125</td>\n      <td>100.0</td>\n      <td>10.0</td>\n      <td>10.0</td>\n      <td>10.0</td>\n      <td>10.0</td>\n      <td>10.0</td>\n      <td>10.0</td>\n      <td>f</td>\n    </tr>\n    <tr>\n      <th>1</th>\n      <td>3705183</td>\n      <td>39 mÂ² Paris (Sacre CÅ“ur)</td>\n      <td>10328771</td>\n      <td>11/29/2013</td>\n      <td>Paris, Ile-de-France, France</td>\n      <td>NaN</td>\n      <td>NaN</td>\n      <td>NaN</td>\n      <td>f</td>\n      <td>1.0</td>\n      <td>...</td>\n      <td>2</td>\n      <td>1125</td>\n      <td>100.0</td>\n      <td>10.0</td>\n      <td>10.0</td>\n      <td>10.0</td>\n      <td>10.0</td>\n      <td>10.0</td>\n      <td>10.0</td>\n      <td>f</td>\n    </tr>\n    <tr>\n      <th>2</th>\n      <td>4082273</td>\n      <td>Lovely apartment with Terrace, 60m2</td>\n      <td>19252768</td>\n      <td>7/31/2014</td>\n      <td>Paris, Ile-de-France, France</td>\n      <td>NaN</td>\n      <td>NaN</td>\n      <td>NaN</td>\n      <td>f</td>\n      <td>1.0</td>\n      <td>...</td>\n      <td>2</td>\n      <td>1125</td>\n      <td>100.0</td>\n      <td>10.0</td>\n      <td>10.0</td>\n      <td>10.0</td>\n      <td>10.0</td>\n      <td>10.0</td>\n      <td>10.0</td>\n      <td>f</td>\n    </tr>\n    <tr>\n      <th>3</th>\n      <td>4797344</td>\n      <td>Cosy studio (close to Eiffel tower)</td>\n      <td>10668311</td>\n      <td>12/17/2013</td>\n      <td>Paris, Ile-de-France, France</td>\n      <td>NaN</td>\n      <td>NaN</td>\n      <td>NaN</td>\n      <td>f</td>\n      <td>1.0</td>\n      <td>...</td>\n      <td>2</td>\n      <td>1125</td>\n      <td>100.0</td>\n      <td>10.0</td>\n      <td>10.0</td>\n      <td>10.0</td>\n      <td>10.0</td>\n      <td>10.0</td>\n      <td>10.0</td>\n      <td>f</td>\n    </tr>\n    <tr>\n      <th>4</th>\n      <td>4823489</td>\n      <td>Close to Eiffel Tower - Beautiful flat : 2 rooms</td>\n      <td>24837558</td>\n      <td>12/14/2014</td>\n      <td>Paris, Ile-de-France, France</td>\n      <td>NaN</td>\n      <td>NaN</td>\n      <td>NaN</td>\n      <td>f</td>\n      <td>1.0</td>\n      <td>...</td>\n      <td>2</td>\n      <td>1125</td>\n      <td>100.0</td>\n      <td>10.0</td>\n      <td>10.0</td>\n      <td>10.0</td>\n      <td>10.0</td>\n      <td>10.0</td>\n      <td>10.0</td>\n      <td>f</td>\n    </tr>\n    <tr>\n      <th>...</th>\n      <td>...</td>\n      <td>...</td>\n      <td>...</td>\n      <td>...</td>\n      <td>...</td>\n      <td>...</td>\n      <td>...</td>\n      <td>...</td>\n      <td>...</td>\n      <td>...</td>\n      <td>...</td>\n      <td>...</td>\n      <td>...</td>\n      <td>...</td>\n      <td>...</td>\n      <td>...</td>\n      <td>...</td>\n      <td>...</td>\n      <td>...</td>\n      <td>...</td>\n      <td>...</td>\n    </tr>\n    <tr>\n      <th>279707</th>\n      <td>38338635</td>\n      <td>Appartement T2 neuf prÃ¨s du tram T3a Porte Didot</td>\n      <td>31161181</td>\n      <td>4/13/2015</td>\n      <td>Paris, Ile-de-France, France</td>\n      <td>NaN</td>\n      <td>NaN</td>\n      <td>NaN</td>\n      <td>f</td>\n      <td>1.0</td>\n      <td>...</td>\n      <td>1</td>\n      <td>7</td>\n      <td>100.0</td>\n      <td>10.0</td>\n      <td>10.0</td>\n      <td>10.0</td>\n      <td>10.0</td>\n      <td>10.0</td>\n      <td>10.0</td>\n      <td>f</td>\n    </tr>\n    <tr>\n      <th>279708</th>\n      <td>38538692</td>\n      <td>Cozy Studio in Montmartre</td>\n      <td>10294858</td>\n      <td>11/27/2013</td>\n      <td>Paris, Ile-de-France, France</td>\n      <td>NaN</td>\n      <td>NaN</td>\n      <td>NaN</td>\n      <td>f</td>\n      <td>1.0</td>\n      <td>...</td>\n      <td>7</td>\n      <td>15</td>\n      <td>100.0</td>\n      <td>10.0</td>\n      <td>10.0</td>\n      <td>10.0</td>\n      <td>10.0</td>\n      <td>10.0</td>\n      <td>10.0</td>\n      <td>f</td>\n    </tr>\n    <tr>\n      <th>279709</th>\n      <td>38683356</td>\n      <td>Nice and cosy mini-appartement in Paris</td>\n      <td>2238502</td>\n      <td>4/27/2012</td>\n      <td>Paris, Ile-de-France, France</td>\n      <td>NaN</td>\n      <td>NaN</td>\n      <td>NaN</td>\n      <td>f</td>\n      <td>1.0</td>\n      <td>...</td>\n      <td>6</td>\n      <td>30</td>\n      <td>100.0</td>\n      <td>10.0</td>\n      <td>10.0</td>\n      <td>10.0</td>\n      <td>10.0</td>\n      <td>10.0</td>\n      <td>10.0</td>\n      <td>f</td>\n    </tr>\n    <tr>\n      <th>279710</th>\n      <td>39659000</td>\n      <td>Charming apartment near Rue Saint Maur / Oberk...</td>\n      <td>38633695</td>\n      <td>7/16/2015</td>\n      <td>Paris, Ile-de-France, France</td>\n      <td>NaN</td>\n      <td>NaN</td>\n      <td>NaN</td>\n      <td>f</td>\n      <td>1.0</td>\n      <td>...</td>\n      <td>3</td>\n      <td>18</td>\n      <td>100.0</td>\n      <td>10.0</td>\n      <td>10.0</td>\n      <td>10.0</td>\n      <td>10.0</td>\n      <td>10.0</td>\n      <td>10.0</td>\n      <td>f</td>\n    </tr>\n    <tr>\n      <th>279711</th>\n      <td>40219504</td>\n      <td>Cosy apartment with view on Canal St Martin</td>\n      <td>6955618</td>\n      <td>6/17/2013</td>\n      <td>Paris, Ile-de-France, France</td>\n      <td>NaN</td>\n      <td>NaN</td>\n      <td>NaN</td>\n      <td>f</td>\n      <td>1.0</td>\n      <td>...</td>\n      <td>2</td>\n      <td>4</td>\n      <td>100.0</td>\n      <td>10.0</td>\n      <td>10.0</td>\n      <td>10.0</td>\n      <td>10.0</td>\n      <td>10.0</td>\n      <td>10.0</td>\n      <td>f</td>\n    </tr>\n  </tbody>\n</table>\n<p>279712 rows × 33 columns</p>\n</div>"
     },
     "execution_count": 35,
     "metadata": {},
     "output_type": "execute_result"
    }
   ],
   "source": [
    "df"
   ],
   "metadata": {
    "collapsed": false,
    "ExecuteTime": {
     "end_time": "2024-03-29T19:51:25.281181Z",
     "start_time": "2024-03-29T19:51:25.131700Z"
    }
   },
   "id": "419af593c1e3eeef",
   "execution_count": 35
  },
  {
   "cell_type": "markdown",
   "source": [
    "### Summarizing the Data:"
   ],
   "metadata": {
    "collapsed": false
   },
   "id": "ac5400116ecddde8"
  },
  {
   "cell_type": "code",
   "outputs": [
    {
     "name": "stdout",
     "output_type": "stream",
     "text": [
      "<class 'pandas.core.frame.DataFrame'>\n",
      "RangeIndex: 279712 entries, 0 to 279711\n",
      "Data columns (total 33 columns):\n",
      " #   Column                       Non-Null Count   Dtype  \n",
      "---  ------                       --------------   -----  \n",
      " 0   listing_id                   279712 non-null  int64  \n",
      " 1   name                         279537 non-null  object \n",
      " 2   host_id                      279712 non-null  int64  \n",
      " 3   host_since                   279547 non-null  object \n",
      " 4   host_location                278872 non-null  object \n",
      " 5   host_response_time           150930 non-null  object \n",
      " 6   host_response_rate           150930 non-null  float64\n",
      " 7   host_acceptance_rate         166625 non-null  float64\n",
      " 8   host_is_superhost            279547 non-null  object \n",
      " 9   host_total_listings_count    279547 non-null  float64\n",
      " 10  host_has_profile_pic         279547 non-null  object \n",
      " 11  host_identity_verified       279547 non-null  object \n",
      " 12  neighbourhood                279712 non-null  object \n",
      " 13  district                     37012 non-null   object \n",
      " 14  city                         279712 non-null  object \n",
      " 15  latitude                     279712 non-null  float64\n",
      " 16  longitude                    279712 non-null  float64\n",
      " 17  property_type                279712 non-null  object \n",
      " 18  room_type                    279712 non-null  object \n",
      " 19  accommodates                 279712 non-null  int64  \n",
      " 20  bedrooms                     250277 non-null  float64\n",
      " 21  amenities                    279712 non-null  object \n",
      " 22  price                        279712 non-null  int64  \n",
      " 23  minimum_nights               279712 non-null  int64  \n",
      " 24  maximum_nights               279712 non-null  int64  \n",
      " 25  review_scores_rating         188307 non-null  float64\n",
      " 26  review_scores_accuracy       187999 non-null  float64\n",
      " 27  review_scores_cleanliness    188047 non-null  float64\n",
      " 28  review_scores_checkin        187941 non-null  float64\n",
      " 29  review_scores_communication  188025 non-null  float64\n",
      " 30  review_scores_location       187937 non-null  float64\n",
      " 31  review_scores_value          187927 non-null  float64\n",
      " 32  instant_bookable             279712 non-null  object \n",
      "dtypes: float64(13), int64(6), object(14)\n",
      "memory usage: 70.4+ MB\n"
     ]
    }
   ],
   "source": [
    "df.info()"
   ],
   "metadata": {
    "collapsed": false,
    "ExecuteTime": {
     "end_time": "2024-03-29T19:51:25.472653Z",
     "start_time": "2024-03-29T19:51:25.282187Z"
    }
   },
   "id": "656e7a21ad464b25",
   "execution_count": 36
  },
  {
   "cell_type": "markdown",
   "source": [
    "### Checking null value percentages:"
   ],
   "metadata": {
    "collapsed": false
   },
   "id": "1d4f19188e271878"
  },
  {
   "cell_type": "code",
   "outputs": [
    {
     "data": {
      "text/plain": "listing_id                      0.00\nname                            0.06\nhost_id                         0.00\nhost_since                      0.06\nhost_location                   0.30\nhost_response_time              0.00\nhost_response_rate              0.00\nhost_acceptance_rate            0.00\nhost_is_superhost               0.00\nhost_total_listings_count       0.06\nhost_has_profile_pic            0.00\nhost_identity_verified          0.00\nneighbourhood                   0.00\ncity                            0.00\nlatitude                        0.00\nlongitude                       0.00\nproperty_type                   0.00\nroom_type                       0.00\naccommodates                    0.00\nbedrooms                       10.52\namenities                       0.00\nprice                           0.00\nminimum_nights                  0.00\nmaximum_nights                  0.00\nreview_scores_rating           32.68\nreview_scores_accuracy         32.79\nreview_scores_cleanliness      32.77\nreview_scores_checkin          32.81\nreview_scores_communication    32.78\nreview_scores_location         32.81\nreview_scores_value            32.81\ninstant_bookable                0.00\ndtype: float64"
     },
     "execution_count": 63,
     "metadata": {},
     "output_type": "execute_result"
    }
   ],
   "source": [
    "NA_perc = round((df.isna().sum()/len(df))*100.0,2) # get the NAs per column as perctentage\n",
    "NA_perc"
   ],
   "metadata": {
    "collapsed": false,
    "ExecuteTime": {
     "end_time": "2024-03-29T20:12:23.129729Z",
     "start_time": "2024-03-29T20:12:23.036511Z"
    }
   },
   "id": "bbcd09054df01bf8",
   "execution_count": 63
  },
  {
   "cell_type": "code",
   "outputs": [
    {
     "data": {
      "text/plain": "host_response_time      46.04\nhost_response_rate      46.04\nhost_acceptance_rate    40.43\ndistrict                86.77\ndtype: float64"
     },
     "execution_count": 38,
     "metadata": {},
     "output_type": "execute_result"
    }
   ],
   "source": [
    "NA_perc[NA_perc>40]"
   ],
   "metadata": {
    "collapsed": false,
    "ExecuteTime": {
     "end_time": "2024-03-29T19:51:25.755110Z",
     "start_time": "2024-03-29T19:51:25.744131Z"
    }
   },
   "id": "a2b9384a52f6458c",
   "execution_count": 38
  },
  {
   "cell_type": "markdown",
   "source": [
    "We can see that 4 columns exceed our 40% null value threshold which are:\n",
    "- host_response_time\n",
    "- host_response_rate\n",
    "- host_acceptance_rate\n",
    "- district"
   ],
   "metadata": {
    "collapsed": false
   },
   "id": "6774d28bfb1a821a"
  },
  {
   "cell_type": "markdown",
   "source": [
    "### Finding all non numeric columns:"
   ],
   "metadata": {
    "collapsed": false
   },
   "id": "25d8e1acf8b71012"
  },
  {
   "cell_type": "code",
   "outputs": [
    {
     "data": {
      "text/plain": "['name',\n 'host_since',\n 'host_location',\n 'host_response_time',\n 'host_is_superhost',\n 'host_has_profile_pic',\n 'host_identity_verified',\n 'neighbourhood',\n 'district',\n 'city',\n 'property_type',\n 'room_type',\n 'amenities',\n 'instant_bookable']"
     },
     "execution_count": 39,
     "metadata": {},
     "output_type": "execute_result"
    }
   ],
   "source": [
    "df.select_dtypes(exclude='number').columns.tolist()"
   ],
   "metadata": {
    "collapsed": false,
    "ExecuteTime": {
     "end_time": "2024-03-29T19:51:25.808662Z",
     "start_time": "2024-03-29T19:51:25.757153Z"
    }
   },
   "id": "bfbb7b11191280fb",
   "execution_count": 39
  },
  {
   "cell_type": "markdown",
   "source": [
    "### Checking for duplicates:"
   ],
   "metadata": {
    "collapsed": false
   },
   "id": "992286d7dea62956"
  },
  {
   "cell_type": "code",
   "outputs": [
    {
     "data": {
      "text/plain": "0"
     },
     "execution_count": 40,
     "metadata": {},
     "output_type": "execute_result"
    }
   ],
   "source": [
    "dup_rows = df.duplicated() # check for duplicate\n",
    "dup_rows.sum() # if used sum() fun will sum the total duplicate , if not will display t or f"
   ],
   "metadata": {
    "collapsed": false,
    "ExecuteTime": {
     "end_time": "2024-03-29T19:51:26.472712Z",
     "start_time": "2024-03-29T19:51:25.810077Z"
    }
   },
   "id": "fb05b9bbbd2d5c08",
   "execution_count": 40
  },
  {
   "cell_type": "markdown",
   "source": [
    "No duplicates were found"
   ],
   "metadata": {
    "collapsed": false
   },
   "id": "de51beefe633bae0"
  },
  {
   "cell_type": "markdown",
   "source": [
    "## 2. Data Cleaning:"
   ],
   "metadata": {
    "collapsed": false
   },
   "id": "6df6ebce25b0370f"
  },
  {
   "cell_type": "markdown",
   "source": [
    "### Dealing with Null Values:"
   ],
   "metadata": {
    "collapsed": false
   },
   "id": "f339e9088838afa9"
  },
  {
   "cell_type": "code",
   "outputs": [
    {
     "data": {
      "text/plain": "        listing_id                                               name  \\\n0           281420     Beautiful Flat in le Village Montmartre, Paris   \n1          3705183                         39 mÂ² Paris (Sacre CÅ“ur)   \n2          4082273                Lovely apartment with Terrace, 60m2   \n3          4797344                Cosy studio (close to Eiffel tower)   \n4          4823489   Close to Eiffel Tower - Beautiful flat : 2 rooms   \n...            ...                                                ...   \n279707    38338635  Appartement T2 neuf prÃ¨s du tram T3a Porte Didot   \n279708    38538692                          Cozy Studio in Montmartre   \n279709    38683356            Nice and cosy mini-appartement in Paris   \n279710    39659000  Charming apartment near Rue Saint Maur / Oberk...   \n279711    40219504        Cosy apartment with view on Canal St Martin   \n\n         host_id  host_since                 host_location host_response_time  \\\n0        1466919   12/3/2011  Paris, Ile-de-France, France                NaN   \n1       10328771  11/29/2013  Paris, Ile-de-France, France                NaN   \n2       19252768   7/31/2014  Paris, Ile-de-France, France                NaN   \n3       10668311  12/17/2013  Paris, Ile-de-France, France                NaN   \n4       24837558  12/14/2014  Paris, Ile-de-France, France                NaN   \n...          ...         ...                           ...                ...   \n279707  31161181   4/13/2015  Paris, Ile-de-France, France                NaN   \n279708  10294858  11/27/2013  Paris, Ile-de-France, France                NaN   \n279709   2238502   4/27/2012  Paris, Ile-de-France, France                NaN   \n279710  38633695   7/16/2015  Paris, Ile-de-France, France                NaN   \n279711   6955618   6/17/2013  Paris, Ile-de-France, France                NaN   \n\n        host_response_rate  host_acceptance_rate host_is_superhost  \\\n0                      NaN                   NaN                 f   \n1                      NaN                   NaN                 f   \n2                      NaN                   NaN                 f   \n3                      NaN                   NaN                 f   \n4                      NaN                   NaN                 f   \n...                    ...                   ...               ...   \n279707                 NaN                   NaN                 f   \n279708                 NaN                   NaN                 f   \n279709                 NaN                   NaN                 f   \n279710                 NaN                   NaN                 f   \n279711                 NaN                   NaN                 f   \n\n        host_total_listings_count  ... minimum_nights maximum_nights  \\\n0                             1.0  ...              2           1125   \n1                             1.0  ...              2           1125   \n2                             1.0  ...              2           1125   \n3                             1.0  ...              2           1125   \n4                             1.0  ...              2           1125   \n...                           ...  ...            ...            ...   \n279707                        1.0  ...              1              7   \n279708                        1.0  ...              7             15   \n279709                        1.0  ...              6             30   \n279710                        1.0  ...              3             18   \n279711                        1.0  ...              2              4   \n\n       review_scores_rating review_scores_accuracy  review_scores_cleanliness  \\\n0                     100.0                   10.0                       10.0   \n1                     100.0                   10.0                       10.0   \n2                     100.0                   10.0                       10.0   \n3                     100.0                   10.0                       10.0   \n4                     100.0                   10.0                       10.0   \n...                     ...                    ...                        ...   \n279707                100.0                   10.0                       10.0   \n279708                100.0                   10.0                       10.0   \n279709                100.0                   10.0                       10.0   \n279710                100.0                   10.0                       10.0   \n279711                100.0                   10.0                       10.0   \n\n        review_scores_checkin review_scores_communication  \\\n0                        10.0                        10.0   \n1                        10.0                        10.0   \n2                        10.0                        10.0   \n3                        10.0                        10.0   \n4                        10.0                        10.0   \n...                       ...                         ...   \n279707                   10.0                        10.0   \n279708                   10.0                        10.0   \n279709                   10.0                        10.0   \n279710                   10.0                        10.0   \n279711                   10.0                        10.0   \n\n       review_scores_location  review_scores_value  instant_bookable  \n0                        10.0                 10.0                 f  \n1                        10.0                 10.0                 f  \n2                        10.0                 10.0                 f  \n3                        10.0                 10.0                 f  \n4                        10.0                 10.0                 f  \n...                       ...                  ...               ...  \n279707                   10.0                 10.0                 f  \n279708                   10.0                 10.0                 f  \n279709                   10.0                 10.0                 f  \n279710                   10.0                 10.0                 f  \n279711                   10.0                 10.0                 f  \n\n[279712 rows x 32 columns]",
      "text/html": "<div>\n<style scoped>\n    .dataframe tbody tr th:only-of-type {\n        vertical-align: middle;\n    }\n\n    .dataframe tbody tr th {\n        vertical-align: top;\n    }\n\n    .dataframe thead th {\n        text-align: right;\n    }\n</style>\n<table border=\"1\" class=\"dataframe\">\n  <thead>\n    <tr style=\"text-align: right;\">\n      <th></th>\n      <th>listing_id</th>\n      <th>name</th>\n      <th>host_id</th>\n      <th>host_since</th>\n      <th>host_location</th>\n      <th>host_response_time</th>\n      <th>host_response_rate</th>\n      <th>host_acceptance_rate</th>\n      <th>host_is_superhost</th>\n      <th>host_total_listings_count</th>\n      <th>...</th>\n      <th>minimum_nights</th>\n      <th>maximum_nights</th>\n      <th>review_scores_rating</th>\n      <th>review_scores_accuracy</th>\n      <th>review_scores_cleanliness</th>\n      <th>review_scores_checkin</th>\n      <th>review_scores_communication</th>\n      <th>review_scores_location</th>\n      <th>review_scores_value</th>\n      <th>instant_bookable</th>\n    </tr>\n  </thead>\n  <tbody>\n    <tr>\n      <th>0</th>\n      <td>281420</td>\n      <td>Beautiful Flat in le Village Montmartre, Paris</td>\n      <td>1466919</td>\n      <td>12/3/2011</td>\n      <td>Paris, Ile-de-France, France</td>\n      <td>NaN</td>\n      <td>NaN</td>\n      <td>NaN</td>\n      <td>f</td>\n      <td>1.0</td>\n      <td>...</td>\n      <td>2</td>\n      <td>1125</td>\n      <td>100.0</td>\n      <td>10.0</td>\n      <td>10.0</td>\n      <td>10.0</td>\n      <td>10.0</td>\n      <td>10.0</td>\n      <td>10.0</td>\n      <td>f</td>\n    </tr>\n    <tr>\n      <th>1</th>\n      <td>3705183</td>\n      <td>39 mÂ² Paris (Sacre CÅ“ur)</td>\n      <td>10328771</td>\n      <td>11/29/2013</td>\n      <td>Paris, Ile-de-France, France</td>\n      <td>NaN</td>\n      <td>NaN</td>\n      <td>NaN</td>\n      <td>f</td>\n      <td>1.0</td>\n      <td>...</td>\n      <td>2</td>\n      <td>1125</td>\n      <td>100.0</td>\n      <td>10.0</td>\n      <td>10.0</td>\n      <td>10.0</td>\n      <td>10.0</td>\n      <td>10.0</td>\n      <td>10.0</td>\n      <td>f</td>\n    </tr>\n    <tr>\n      <th>2</th>\n      <td>4082273</td>\n      <td>Lovely apartment with Terrace, 60m2</td>\n      <td>19252768</td>\n      <td>7/31/2014</td>\n      <td>Paris, Ile-de-France, France</td>\n      <td>NaN</td>\n      <td>NaN</td>\n      <td>NaN</td>\n      <td>f</td>\n      <td>1.0</td>\n      <td>...</td>\n      <td>2</td>\n      <td>1125</td>\n      <td>100.0</td>\n      <td>10.0</td>\n      <td>10.0</td>\n      <td>10.0</td>\n      <td>10.0</td>\n      <td>10.0</td>\n      <td>10.0</td>\n      <td>f</td>\n    </tr>\n    <tr>\n      <th>3</th>\n      <td>4797344</td>\n      <td>Cosy studio (close to Eiffel tower)</td>\n      <td>10668311</td>\n      <td>12/17/2013</td>\n      <td>Paris, Ile-de-France, France</td>\n      <td>NaN</td>\n      <td>NaN</td>\n      <td>NaN</td>\n      <td>f</td>\n      <td>1.0</td>\n      <td>...</td>\n      <td>2</td>\n      <td>1125</td>\n      <td>100.0</td>\n      <td>10.0</td>\n      <td>10.0</td>\n      <td>10.0</td>\n      <td>10.0</td>\n      <td>10.0</td>\n      <td>10.0</td>\n      <td>f</td>\n    </tr>\n    <tr>\n      <th>4</th>\n      <td>4823489</td>\n      <td>Close to Eiffel Tower - Beautiful flat : 2 rooms</td>\n      <td>24837558</td>\n      <td>12/14/2014</td>\n      <td>Paris, Ile-de-France, France</td>\n      <td>NaN</td>\n      <td>NaN</td>\n      <td>NaN</td>\n      <td>f</td>\n      <td>1.0</td>\n      <td>...</td>\n      <td>2</td>\n      <td>1125</td>\n      <td>100.0</td>\n      <td>10.0</td>\n      <td>10.0</td>\n      <td>10.0</td>\n      <td>10.0</td>\n      <td>10.0</td>\n      <td>10.0</td>\n      <td>f</td>\n    </tr>\n    <tr>\n      <th>...</th>\n      <td>...</td>\n      <td>...</td>\n      <td>...</td>\n      <td>...</td>\n      <td>...</td>\n      <td>...</td>\n      <td>...</td>\n      <td>...</td>\n      <td>...</td>\n      <td>...</td>\n      <td>...</td>\n      <td>...</td>\n      <td>...</td>\n      <td>...</td>\n      <td>...</td>\n      <td>...</td>\n      <td>...</td>\n      <td>...</td>\n      <td>...</td>\n      <td>...</td>\n      <td>...</td>\n    </tr>\n    <tr>\n      <th>279707</th>\n      <td>38338635</td>\n      <td>Appartement T2 neuf prÃ¨s du tram T3a Porte Didot</td>\n      <td>31161181</td>\n      <td>4/13/2015</td>\n      <td>Paris, Ile-de-France, France</td>\n      <td>NaN</td>\n      <td>NaN</td>\n      <td>NaN</td>\n      <td>f</td>\n      <td>1.0</td>\n      <td>...</td>\n      <td>1</td>\n      <td>7</td>\n      <td>100.0</td>\n      <td>10.0</td>\n      <td>10.0</td>\n      <td>10.0</td>\n      <td>10.0</td>\n      <td>10.0</td>\n      <td>10.0</td>\n      <td>f</td>\n    </tr>\n    <tr>\n      <th>279708</th>\n      <td>38538692</td>\n      <td>Cozy Studio in Montmartre</td>\n      <td>10294858</td>\n      <td>11/27/2013</td>\n      <td>Paris, Ile-de-France, France</td>\n      <td>NaN</td>\n      <td>NaN</td>\n      <td>NaN</td>\n      <td>f</td>\n      <td>1.0</td>\n      <td>...</td>\n      <td>7</td>\n      <td>15</td>\n      <td>100.0</td>\n      <td>10.0</td>\n      <td>10.0</td>\n      <td>10.0</td>\n      <td>10.0</td>\n      <td>10.0</td>\n      <td>10.0</td>\n      <td>f</td>\n    </tr>\n    <tr>\n      <th>279709</th>\n      <td>38683356</td>\n      <td>Nice and cosy mini-appartement in Paris</td>\n      <td>2238502</td>\n      <td>4/27/2012</td>\n      <td>Paris, Ile-de-France, France</td>\n      <td>NaN</td>\n      <td>NaN</td>\n      <td>NaN</td>\n      <td>f</td>\n      <td>1.0</td>\n      <td>...</td>\n      <td>6</td>\n      <td>30</td>\n      <td>100.0</td>\n      <td>10.0</td>\n      <td>10.0</td>\n      <td>10.0</td>\n      <td>10.0</td>\n      <td>10.0</td>\n      <td>10.0</td>\n      <td>f</td>\n    </tr>\n    <tr>\n      <th>279710</th>\n      <td>39659000</td>\n      <td>Charming apartment near Rue Saint Maur / Oberk...</td>\n      <td>38633695</td>\n      <td>7/16/2015</td>\n      <td>Paris, Ile-de-France, France</td>\n      <td>NaN</td>\n      <td>NaN</td>\n      <td>NaN</td>\n      <td>f</td>\n      <td>1.0</td>\n      <td>...</td>\n      <td>3</td>\n      <td>18</td>\n      <td>100.0</td>\n      <td>10.0</td>\n      <td>10.0</td>\n      <td>10.0</td>\n      <td>10.0</td>\n      <td>10.0</td>\n      <td>10.0</td>\n      <td>f</td>\n    </tr>\n    <tr>\n      <th>279711</th>\n      <td>40219504</td>\n      <td>Cosy apartment with view on Canal St Martin</td>\n      <td>6955618</td>\n      <td>6/17/2013</td>\n      <td>Paris, Ile-de-France, France</td>\n      <td>NaN</td>\n      <td>NaN</td>\n      <td>NaN</td>\n      <td>f</td>\n      <td>1.0</td>\n      <td>...</td>\n      <td>2</td>\n      <td>4</td>\n      <td>100.0</td>\n      <td>10.0</td>\n      <td>10.0</td>\n      <td>10.0</td>\n      <td>10.0</td>\n      <td>10.0</td>\n      <td>10.0</td>\n      <td>f</td>\n    </tr>\n  </tbody>\n</table>\n<p>279712 rows × 32 columns</p>\n</div>"
     },
     "execution_count": 41,
     "metadata": {},
     "output_type": "execute_result"
    }
   ],
   "source": [
    "# need to add\n",
    "df.drop(['district'], axis=1, inplace=True)\n",
    "df.drop([])"
   ],
   "metadata": {
    "collapsed": false,
    "ExecuteTime": {
     "end_time": "2024-03-29T19:51:26.700551Z",
     "start_time": "2024-03-29T19:51:26.473717Z"
    }
   },
   "id": "3f814fefed02c6c8",
   "execution_count": 41
  },
  {
   "cell_type": "code",
   "outputs": [],
   "source": [
    "hrt_mean = df['host_response_time'].mode()[0]\n",
    "hrr_mean = df['host_response_rate'].mode()[0]\n",
    "har_mean = df['host_acceptance_rate'].mode()[0]\n",
    "df.host_response_time.fillna(hrt_mean, inplace=True)\n",
    "df.host_response_rate.fillna(hrr_mean, inplace=True)\n",
    "df.host_acceptance_rate.fillna(har_mean, inplace = True)"
   ],
   "metadata": {
    "collapsed": false,
    "ExecuteTime": {
     "end_time": "2024-03-29T19:51:26.734819Z",
     "start_time": "2024-03-29T19:51:26.702582Z"
    }
   },
   "id": "5eab3972b92de342",
   "execution_count": 42
  },
  {
   "cell_type": "code",
   "outputs": [
    {
     "data": {
      "text/plain": "        listing_id                                               name  \\\n0           281420     Beautiful Flat in le Village Montmartre, Paris   \n1          3705183                         39 mÂ² Paris (Sacre CÅ“ur)   \n2          4082273                Lovely apartment with Terrace, 60m2   \n3          4797344                Cosy studio (close to Eiffel tower)   \n4          4823489   Close to Eiffel Tower - Beautiful flat : 2 rooms   \n...            ...                                                ...   \n279707    38338635  Appartement T2 neuf prÃ¨s du tram T3a Porte Didot   \n279708    38538692                          Cozy Studio in Montmartre   \n279709    38683356            Nice and cosy mini-appartement in Paris   \n279710    39659000  Charming apartment near Rue Saint Maur / Oberk...   \n279711    40219504        Cosy apartment with view on Canal St Martin   \n\n         host_id  host_since                 host_location host_response_time  \\\n0        1466919   12/3/2011  Paris, Ile-de-France, France     within an hour   \n1       10328771  11/29/2013  Paris, Ile-de-France, France     within an hour   \n2       19252768   7/31/2014  Paris, Ile-de-France, France     within an hour   \n3       10668311  12/17/2013  Paris, Ile-de-France, France     within an hour   \n4       24837558  12/14/2014  Paris, Ile-de-France, France     within an hour   \n...          ...         ...                           ...                ...   \n279707  31161181   4/13/2015  Paris, Ile-de-France, France     within an hour   \n279708  10294858  11/27/2013  Paris, Ile-de-France, France     within an hour   \n279709   2238502   4/27/2012  Paris, Ile-de-France, France     within an hour   \n279710  38633695   7/16/2015  Paris, Ile-de-France, France     within an hour   \n279711   6955618   6/17/2013  Paris, Ile-de-France, France     within an hour   \n\n        host_response_rate  host_acceptance_rate host_is_superhost  \\\n0                      1.0                   1.0                 f   \n1                      1.0                   1.0                 f   \n2                      1.0                   1.0                 f   \n3                      1.0                   1.0                 f   \n4                      1.0                   1.0                 f   \n...                    ...                   ...               ...   \n279707                 1.0                   1.0                 f   \n279708                 1.0                   1.0                 f   \n279709                 1.0                   1.0                 f   \n279710                 1.0                   1.0                 f   \n279711                 1.0                   1.0                 f   \n\n        host_total_listings_count  ... minimum_nights maximum_nights  \\\n0                             1.0  ...              2           1125   \n1                             1.0  ...              2           1125   \n2                             1.0  ...              2           1125   \n3                             1.0  ...              2           1125   \n4                             1.0  ...              2           1125   \n...                           ...  ...            ...            ...   \n279707                        1.0  ...              1              7   \n279708                        1.0  ...              7             15   \n279709                        1.0  ...              6             30   \n279710                        1.0  ...              3             18   \n279711                        1.0  ...              2              4   \n\n       review_scores_rating review_scores_accuracy  review_scores_cleanliness  \\\n0                     100.0                   10.0                       10.0   \n1                     100.0                   10.0                       10.0   \n2                     100.0                   10.0                       10.0   \n3                     100.0                   10.0                       10.0   \n4                     100.0                   10.0                       10.0   \n...                     ...                    ...                        ...   \n279707                100.0                   10.0                       10.0   \n279708                100.0                   10.0                       10.0   \n279709                100.0                   10.0                       10.0   \n279710                100.0                   10.0                       10.0   \n279711                100.0                   10.0                       10.0   \n\n        review_scores_checkin review_scores_communication  \\\n0                        10.0                        10.0   \n1                        10.0                        10.0   \n2                        10.0                        10.0   \n3                        10.0                        10.0   \n4                        10.0                        10.0   \n...                       ...                         ...   \n279707                   10.0                        10.0   \n279708                   10.0                        10.0   \n279709                   10.0                        10.0   \n279710                   10.0                        10.0   \n279711                   10.0                        10.0   \n\n       review_scores_location  review_scores_value  instant_bookable  \n0                        10.0                 10.0                 f  \n1                        10.0                 10.0                 f  \n2                        10.0                 10.0                 f  \n3                        10.0                 10.0                 f  \n4                        10.0                 10.0                 f  \n...                       ...                  ...               ...  \n279707                   10.0                 10.0                 f  \n279708                   10.0                 10.0                 f  \n279709                   10.0                 10.0                 f  \n279710                   10.0                 10.0                 f  \n279711                   10.0                 10.0                 f  \n\n[279712 rows x 32 columns]",
      "text/html": "<div>\n<style scoped>\n    .dataframe tbody tr th:only-of-type {\n        vertical-align: middle;\n    }\n\n    .dataframe tbody tr th {\n        vertical-align: top;\n    }\n\n    .dataframe thead th {\n        text-align: right;\n    }\n</style>\n<table border=\"1\" class=\"dataframe\">\n  <thead>\n    <tr style=\"text-align: right;\">\n      <th></th>\n      <th>listing_id</th>\n      <th>name</th>\n      <th>host_id</th>\n      <th>host_since</th>\n      <th>host_location</th>\n      <th>host_response_time</th>\n      <th>host_response_rate</th>\n      <th>host_acceptance_rate</th>\n      <th>host_is_superhost</th>\n      <th>host_total_listings_count</th>\n      <th>...</th>\n      <th>minimum_nights</th>\n      <th>maximum_nights</th>\n      <th>review_scores_rating</th>\n      <th>review_scores_accuracy</th>\n      <th>review_scores_cleanliness</th>\n      <th>review_scores_checkin</th>\n      <th>review_scores_communication</th>\n      <th>review_scores_location</th>\n      <th>review_scores_value</th>\n      <th>instant_bookable</th>\n    </tr>\n  </thead>\n  <tbody>\n    <tr>\n      <th>0</th>\n      <td>281420</td>\n      <td>Beautiful Flat in le Village Montmartre, Paris</td>\n      <td>1466919</td>\n      <td>12/3/2011</td>\n      <td>Paris, Ile-de-France, France</td>\n      <td>within an hour</td>\n      <td>1.0</td>\n      <td>1.0</td>\n      <td>f</td>\n      <td>1.0</td>\n      <td>...</td>\n      <td>2</td>\n      <td>1125</td>\n      <td>100.0</td>\n      <td>10.0</td>\n      <td>10.0</td>\n      <td>10.0</td>\n      <td>10.0</td>\n      <td>10.0</td>\n      <td>10.0</td>\n      <td>f</td>\n    </tr>\n    <tr>\n      <th>1</th>\n      <td>3705183</td>\n      <td>39 mÂ² Paris (Sacre CÅ“ur)</td>\n      <td>10328771</td>\n      <td>11/29/2013</td>\n      <td>Paris, Ile-de-France, France</td>\n      <td>within an hour</td>\n      <td>1.0</td>\n      <td>1.0</td>\n      <td>f</td>\n      <td>1.0</td>\n      <td>...</td>\n      <td>2</td>\n      <td>1125</td>\n      <td>100.0</td>\n      <td>10.0</td>\n      <td>10.0</td>\n      <td>10.0</td>\n      <td>10.0</td>\n      <td>10.0</td>\n      <td>10.0</td>\n      <td>f</td>\n    </tr>\n    <tr>\n      <th>2</th>\n      <td>4082273</td>\n      <td>Lovely apartment with Terrace, 60m2</td>\n      <td>19252768</td>\n      <td>7/31/2014</td>\n      <td>Paris, Ile-de-France, France</td>\n      <td>within an hour</td>\n      <td>1.0</td>\n      <td>1.0</td>\n      <td>f</td>\n      <td>1.0</td>\n      <td>...</td>\n      <td>2</td>\n      <td>1125</td>\n      <td>100.0</td>\n      <td>10.0</td>\n      <td>10.0</td>\n      <td>10.0</td>\n      <td>10.0</td>\n      <td>10.0</td>\n      <td>10.0</td>\n      <td>f</td>\n    </tr>\n    <tr>\n      <th>3</th>\n      <td>4797344</td>\n      <td>Cosy studio (close to Eiffel tower)</td>\n      <td>10668311</td>\n      <td>12/17/2013</td>\n      <td>Paris, Ile-de-France, France</td>\n      <td>within an hour</td>\n      <td>1.0</td>\n      <td>1.0</td>\n      <td>f</td>\n      <td>1.0</td>\n      <td>...</td>\n      <td>2</td>\n      <td>1125</td>\n      <td>100.0</td>\n      <td>10.0</td>\n      <td>10.0</td>\n      <td>10.0</td>\n      <td>10.0</td>\n      <td>10.0</td>\n      <td>10.0</td>\n      <td>f</td>\n    </tr>\n    <tr>\n      <th>4</th>\n      <td>4823489</td>\n      <td>Close to Eiffel Tower - Beautiful flat : 2 rooms</td>\n      <td>24837558</td>\n      <td>12/14/2014</td>\n      <td>Paris, Ile-de-France, France</td>\n      <td>within an hour</td>\n      <td>1.0</td>\n      <td>1.0</td>\n      <td>f</td>\n      <td>1.0</td>\n      <td>...</td>\n      <td>2</td>\n      <td>1125</td>\n      <td>100.0</td>\n      <td>10.0</td>\n      <td>10.0</td>\n      <td>10.0</td>\n      <td>10.0</td>\n      <td>10.0</td>\n      <td>10.0</td>\n      <td>f</td>\n    </tr>\n    <tr>\n      <th>...</th>\n      <td>...</td>\n      <td>...</td>\n      <td>...</td>\n      <td>...</td>\n      <td>...</td>\n      <td>...</td>\n      <td>...</td>\n      <td>...</td>\n      <td>...</td>\n      <td>...</td>\n      <td>...</td>\n      <td>...</td>\n      <td>...</td>\n      <td>...</td>\n      <td>...</td>\n      <td>...</td>\n      <td>...</td>\n      <td>...</td>\n      <td>...</td>\n      <td>...</td>\n      <td>...</td>\n    </tr>\n    <tr>\n      <th>279707</th>\n      <td>38338635</td>\n      <td>Appartement T2 neuf prÃ¨s du tram T3a Porte Didot</td>\n      <td>31161181</td>\n      <td>4/13/2015</td>\n      <td>Paris, Ile-de-France, France</td>\n      <td>within an hour</td>\n      <td>1.0</td>\n      <td>1.0</td>\n      <td>f</td>\n      <td>1.0</td>\n      <td>...</td>\n      <td>1</td>\n      <td>7</td>\n      <td>100.0</td>\n      <td>10.0</td>\n      <td>10.0</td>\n      <td>10.0</td>\n      <td>10.0</td>\n      <td>10.0</td>\n      <td>10.0</td>\n      <td>f</td>\n    </tr>\n    <tr>\n      <th>279708</th>\n      <td>38538692</td>\n      <td>Cozy Studio in Montmartre</td>\n      <td>10294858</td>\n      <td>11/27/2013</td>\n      <td>Paris, Ile-de-France, France</td>\n      <td>within an hour</td>\n      <td>1.0</td>\n      <td>1.0</td>\n      <td>f</td>\n      <td>1.0</td>\n      <td>...</td>\n      <td>7</td>\n      <td>15</td>\n      <td>100.0</td>\n      <td>10.0</td>\n      <td>10.0</td>\n      <td>10.0</td>\n      <td>10.0</td>\n      <td>10.0</td>\n      <td>10.0</td>\n      <td>f</td>\n    </tr>\n    <tr>\n      <th>279709</th>\n      <td>38683356</td>\n      <td>Nice and cosy mini-appartement in Paris</td>\n      <td>2238502</td>\n      <td>4/27/2012</td>\n      <td>Paris, Ile-de-France, France</td>\n      <td>within an hour</td>\n      <td>1.0</td>\n      <td>1.0</td>\n      <td>f</td>\n      <td>1.0</td>\n      <td>...</td>\n      <td>6</td>\n      <td>30</td>\n      <td>100.0</td>\n      <td>10.0</td>\n      <td>10.0</td>\n      <td>10.0</td>\n      <td>10.0</td>\n      <td>10.0</td>\n      <td>10.0</td>\n      <td>f</td>\n    </tr>\n    <tr>\n      <th>279710</th>\n      <td>39659000</td>\n      <td>Charming apartment near Rue Saint Maur / Oberk...</td>\n      <td>38633695</td>\n      <td>7/16/2015</td>\n      <td>Paris, Ile-de-France, France</td>\n      <td>within an hour</td>\n      <td>1.0</td>\n      <td>1.0</td>\n      <td>f</td>\n      <td>1.0</td>\n      <td>...</td>\n      <td>3</td>\n      <td>18</td>\n      <td>100.0</td>\n      <td>10.0</td>\n      <td>10.0</td>\n      <td>10.0</td>\n      <td>10.0</td>\n      <td>10.0</td>\n      <td>10.0</td>\n      <td>f</td>\n    </tr>\n    <tr>\n      <th>279711</th>\n      <td>40219504</td>\n      <td>Cosy apartment with view on Canal St Martin</td>\n      <td>6955618</td>\n      <td>6/17/2013</td>\n      <td>Paris, Ile-de-France, France</td>\n      <td>within an hour</td>\n      <td>1.0</td>\n      <td>1.0</td>\n      <td>f</td>\n      <td>1.0</td>\n      <td>...</td>\n      <td>2</td>\n      <td>4</td>\n      <td>100.0</td>\n      <td>10.0</td>\n      <td>10.0</td>\n      <td>10.0</td>\n      <td>10.0</td>\n      <td>10.0</td>\n      <td>10.0</td>\n      <td>f</td>\n    </tr>\n  </tbody>\n</table>\n<p>279712 rows × 32 columns</p>\n</div>"
     },
     "execution_count": 43,
     "metadata": {},
     "output_type": "execute_result"
    }
   ],
   "source": [
    "df"
   ],
   "metadata": {
    "collapsed": false,
    "ExecuteTime": {
     "end_time": "2024-03-29T19:51:26.863234Z",
     "start_time": "2024-03-29T19:51:26.735826Z"
    }
   },
   "id": "ff8115f01726e87b",
   "execution_count": 43
  },
  {
   "cell_type": "markdown",
   "source": [
    "### Changing boolean columns from object (or string) to boolean because they are binary columns"
   ],
   "metadata": {
    "collapsed": false
   },
   "id": "318c8d7a0a29d898"
  },
  {
   "cell_type": "code",
   "outputs": [],
   "source": [
    "df['instant_bookable'] = df['instant_bookable'].replace({'f': False, 't': True })\n",
    "df.instant_bookable = df.instant_bookable.astype(bool)"
   ],
   "metadata": {
    "collapsed": false,
    "ExecuteTime": {
     "end_time": "2024-03-29T19:51:26.902231Z",
     "start_time": "2024-03-29T19:51:26.864759Z"
    }
   },
   "id": "7701d10ba1ac77f5",
   "execution_count": 44
  },
  {
   "cell_type": "code",
   "outputs": [],
   "source": [
    "df['host_is_superhost'] = df['host_is_superhost'].replace({'f': False, 't': True })\n",
    "df.host_is_superhost = df.host_is_superhost.astype(bool)"
   ],
   "metadata": {
    "collapsed": false,
    "ExecuteTime": {
     "end_time": "2024-03-29T19:51:26.948356Z",
     "start_time": "2024-03-29T19:51:26.903744Z"
    }
   },
   "id": "34b92013e28f6f8",
   "execution_count": 45
  },
  {
   "cell_type": "code",
   "outputs": [],
   "source": [
    "df['host_has_profile_pic'] = df['host_has_profile_pic'].replace({'f': False, 't': True })\n",
    "df.host_has_profile_pic = df.host_has_profile_pic.astype(bool)"
   ],
   "metadata": {
    "collapsed": false,
    "ExecuteTime": {
     "end_time": "2024-03-29T19:51:26.991568Z",
     "start_time": "2024-03-29T19:51:26.949364Z"
    }
   },
   "id": "af53032aabe31d0",
   "execution_count": 46
  },
  {
   "cell_type": "code",
   "outputs": [],
   "source": [
    "df['host_identity_verified'] = df['host_identity_verified'].replace({'f': False, 't': True })\n",
    "df.host_identity_verified = df.host_identity_verified.astype(bool)"
   ],
   "metadata": {
    "collapsed": false,
    "ExecuteTime": {
     "end_time": "2024-03-29T19:51:27.042721Z",
     "start_time": "2024-03-29T19:51:26.995942Z"
    }
   },
   "id": "17a41bde4102dd76",
   "execution_count": 47
  },
  {
   "cell_type": "code",
   "outputs": [
    {
     "name": "stdout",
     "output_type": "stream",
     "text": [
      "<class 'pandas.core.frame.DataFrame'>\n",
      "RangeIndex: 279712 entries, 0 to 279711\n",
      "Data columns (total 32 columns):\n",
      " #   Column                       Non-Null Count   Dtype  \n",
      "---  ------                       --------------   -----  \n",
      " 0   listing_id                   279712 non-null  int64  \n",
      " 1   name                         279537 non-null  object \n",
      " 2   host_id                      279712 non-null  int64  \n",
      " 3   host_since                   279547 non-null  object \n",
      " 4   host_location                278872 non-null  object \n",
      " 5   host_response_time           279712 non-null  object \n",
      " 6   host_response_rate           279712 non-null  float64\n",
      " 7   host_acceptance_rate         279712 non-null  float64\n",
      " 8   host_is_superhost            279712 non-null  bool   \n",
      " 9   host_total_listings_count    279547 non-null  float64\n",
      " 10  host_has_profile_pic         279712 non-null  bool   \n",
      " 11  host_identity_verified       279712 non-null  bool   \n",
      " 12  neighbourhood                279712 non-null  object \n",
      " 13  city                         279712 non-null  object \n",
      " 14  latitude                     279712 non-null  float64\n",
      " 15  longitude                    279712 non-null  float64\n",
      " 16  property_type                279712 non-null  object \n",
      " 17  room_type                    279712 non-null  object \n",
      " 18  accommodates                 279712 non-null  int64  \n",
      " 19  bedrooms                     250277 non-null  float64\n",
      " 20  amenities                    279712 non-null  object \n",
      " 21  price                        279712 non-null  int64  \n",
      " 22  minimum_nights               279712 non-null  int64  \n",
      " 23  maximum_nights               279712 non-null  int64  \n",
      " 24  review_scores_rating         188307 non-null  float64\n",
      " 25  review_scores_accuracy       187999 non-null  float64\n",
      " 26  review_scores_cleanliness    188047 non-null  float64\n",
      " 27  review_scores_checkin        187941 non-null  float64\n",
      " 28  review_scores_communication  188025 non-null  float64\n",
      " 29  review_scores_location       187937 non-null  float64\n",
      " 30  review_scores_value          187927 non-null  float64\n",
      " 31  instant_bookable             279712 non-null  bool   \n",
      "dtypes: bool(4), float64(13), int64(6), object(9)\n",
      "memory usage: 60.8+ MB\n"
     ]
    }
   ],
   "source": [
    "df.info()"
   ],
   "metadata": {
    "collapsed": false,
    "ExecuteTime": {
     "end_time": "2024-03-29T19:51:27.140806Z",
     "start_time": "2024-03-29T19:51:27.044139Z"
    }
   },
   "id": "eb5cb592ec7d0fda",
   "execution_count": 48
  },
  {
   "cell_type": "markdown",
   "source": [
    "### Changing unnecessary float columns into int: "
   ],
   "metadata": {
    "collapsed": false
   },
   "id": "297df7e1ca38501d"
  },
  {
   "cell_type": "code",
   "outputs": [],
   "source": [
    "df.bedrooms = df.bedrooms.astype('Int64')"
   ],
   "metadata": {
    "collapsed": false,
    "ExecuteTime": {
     "end_time": "2024-03-29T19:51:27.173534Z",
     "start_time": "2024-03-29T19:51:27.141815Z"
    }
   },
   "id": "4697327f2874cb04",
   "execution_count": 49
  },
  {
   "cell_type": "code",
   "outputs": [],
   "source": [
    "df.host_total_listings_count = df.host_total_listings_count.astype('Int64')"
   ],
   "metadata": {
    "collapsed": false,
    "ExecuteTime": {
     "end_time": "2024-03-29T19:51:27.196235Z",
     "start_time": "2024-03-29T19:51:27.174786Z"
    }
   },
   "id": "f5a5e93f964c9b63",
   "execution_count": 50
  },
  {
   "cell_type": "markdown",
   "source": [
    "### Changing unnecessary string/object columns to float or int: "
   ],
   "metadata": {
    "collapsed": false
   },
   "id": "36669ae6c743cd7d"
  },
  {
   "cell_type": "code",
   "outputs": [],
   "source": [
    "df.host_response_rate = df.host_response_rate.astype('float64')"
   ],
   "metadata": {
    "collapsed": false,
    "ExecuteTime": {
     "end_time": "2024-03-29T19:51:27.202872Z",
     "start_time": "2024-03-29T19:51:27.197632Z"
    }
   },
   "id": "b6327448d9e5fc04",
   "execution_count": 51
  },
  {
   "cell_type": "markdown",
   "source": [
    "### Looking at unique object values:"
   ],
   "metadata": {
    "collapsed": false
   },
   "id": "eb3b7eb32caf9522"
  },
  {
   "cell_type": "code",
   "outputs": [
    {
     "name": "stdout",
     "output_type": "stream",
     "text": [
      "host_response_time : ['within an hour' 'within a few hours' 'within a day' 'a few days or more']\n",
      "host_response_rate : [1.   0.   0.5  0.67 0.9  0.86 0.83 0.8  0.75 0.88 0.79 0.89 0.94 0.71\n",
      " 0.95 0.3  0.25 0.6  0.33 0.43 0.2  0.84 0.4  0.92 0.17 0.97 0.87 0.38\n",
      " 0.7  0.58 0.76 0.78 0.44 0.91 0.1  0.14 0.57 0.56 0.05 0.77 0.98 0.96\n",
      " 0.93 0.72 0.29 0.63 0.11 0.68 0.69 0.81 0.82 0.73 0.85 0.46 0.22 0.99\n",
      " 0.23 0.13 0.36 0.12 0.47 0.55 0.06 0.08 0.09 0.62 0.65 0.64 0.28 0.53\n",
      " 0.39 0.59 0.41 0.27 0.31 0.74 0.03 0.52 0.04 0.54 0.61 0.21 0.07 0.45\n",
      " 0.42 0.51 0.48 0.19 0.15 0.01 0.24]\n",
      "host_is_superhost : [False  True]\n",
      "host_has_profile_pic : [ True False]\n",
      "host_identity_verified : [False  True]\n",
      "city : ['Paris' 'New York' 'Bangkok' 'Rio de Janeiro' 'Sydney' 'Istanbul' 'Rome'\n",
      " 'Hong Kong' 'Mexico City' 'Cape Town']\n",
      "room_type : ['Entire place' 'Private room' 'Hotel room' 'Shared room']\n",
      "accommodates : [ 2  4  3  1  5  6  7  8  9 10 14 12 11 16 13 15  0]\n",
      "bedrooms : <IntegerArray>\n",
      "[   1, <NA>,    2,    3,    4,    5,    6,    8,   10,   12,    7,    9,   11,\n",
      "   50,   13,   15,   24,   16,   20,   14,   40,   30,   42,   18,   34,   35,\n",
      "   17,   25,   23,   46,   21,   26,   19,   31,   22,   38,   33,   39,   41,\n",
      "   48]\n",
      "Length: 40, dtype: Int64\n",
      "review_scores_rating : [100.  98.  99.  93.  96.  97.  95.  90.  88.  92.  80.  94.  60.  91.\n",
      "  85.  87.  89.  75.  86.  84.  83.  70.  82.  81.  72.  50.  40.  77.\n",
      "  71.  67.  48.  20.  56.  nan  73.  76.  27.  78.  68.  64.  74.  63.\n",
      "  66.  47.  65.  53.  52.  79.  69.  57.  58.  33.  30.  54.  45.  55.\n",
      "  36.  31.  49.  62.  43.  35.  61.  44.]\n",
      "review_scores_accuracy : [10.  9.  8.  4.  7.  6.  5. nan  2.  3.]\n",
      "review_scores_cleanliness : [10.  9.  8.  7.  6.  4.  2.  5. nan  3.]\n",
      "review_scores_checkin : [10.  9.  8.  7. nan  6.  5.  2.  4.  3.]\n",
      "review_scores_communication : [10.  9.  8.  7.  6. nan  5.  2.  4.  3.]\n",
      "review_scores_location : [10.  9.  8.  6.  7. nan  2.  5.  4.  3.]\n",
      "review_scores_value : [10.  9.  8.  6.  2.  7.  4. nan  5.  3.]\n",
      "instant_bookable : [False  True]\n"
     ]
    }
   ],
   "source": [
    "# take a look at the values\n",
    "for col in df.nunique()[df.nunique() <100].index:\n",
    "    print(col,\":\", df[col].unique() )"
   ],
   "metadata": {
    "collapsed": false,
    "ExecuteTime": {
     "end_time": "2024-03-29T19:51:28.251668Z",
     "start_time": "2024-03-29T19:51:27.204091Z"
    }
   },
   "id": "e6436a9481d34e35",
   "execution_count": 52
  },
  {
   "cell_type": "code",
   "outputs": [],
   "source": [
    "# col_to_plot = df.select_dtypes(exclude='number').columns.tolist()\n",
    "# f, axes = plt.subplots(round(len(col_to_plot)/2),2, figsize=(10, 15))\n",
    "# for i,x in zip(col_to_plot,axes.flat):\n",
    "#     sns.countplot(data = df ,x = str(i) ,ax = x  ,palette=\"muted\")\n",
    "# f.show()\n",
    "# plt.tight_layout()"
   ],
   "metadata": {
    "collapsed": false,
    "ExecuteTime": {
     "end_time": "2024-03-29T19:51:28.257246Z",
     "start_time": "2024-03-29T19:51:28.253448Z"
    }
   },
   "id": "f4ac03aeeb9ad151",
   "execution_count": 53
  },
  {
   "cell_type": "markdown",
   "source": [
    "## 3. Exploratory Data Analysis:"
   ],
   "metadata": {
    "collapsed": false
   },
   "id": "557834ade4ba41af"
  },
  {
   "cell_type": "code",
   "outputs": [],
   "source": [],
   "metadata": {
    "collapsed": false
   },
   "id": "25c040f9233c7cbb"
  },
  {
   "cell_type": "markdown",
   "source": [
    "## 4. Feature Engineering"
   ],
   "metadata": {
    "collapsed": false
   },
   "id": "7df043dc27c4a78f"
  },
  {
   "cell_type": "markdown",
   "source": [
    "First we will create a reduced version of the listings dataframe"
   ],
   "metadata": {
    "collapsed": false
   },
   "id": "73c669877c1cfe63"
  },
  {
   "cell_type": "code",
   "outputs": [
    {
     "data": {
      "text/plain": "        listing_id                                               name   city  \\\n0           281420     Beautiful Flat in le Village Montmartre, Paris  Paris   \n1          3705183                         39 mÂ² Paris (Sacre CÅ“ur)  Paris   \n2          4082273                Lovely apartment with Terrace, 60m2  Paris   \n3          4797344                Cosy studio (close to Eiffel tower)  Paris   \n4          4823489   Close to Eiffel Tower - Beautiful flat : 2 rooms  Paris   \n...            ...                                                ...    ...   \n279707    38338635  Appartement T2 neuf prÃ¨s du tram T3a Porte Didot  Paris   \n279708    38538692                          Cozy Studio in Montmartre  Paris   \n279709    38683356            Nice and cosy mini-appartement in Paris  Paris   \n279710    39659000  Charming apartment near Rue Saint Maur / Oberk...  Paris   \n279711    40219504        Cosy apartment with view on Canal St Martin  Paris   \n\n        price  instant_bookable  \n0          53             False  \n1         120             False  \n2          89             False  \n3          58             False  \n4          60             False  \n...       ...               ...  \n279707    120             False  \n279708     60             False  \n279709     50             False  \n279710    105             False  \n279711     70             False  \n\n[279712 rows x 5 columns]",
      "text/html": "<div>\n<style scoped>\n    .dataframe tbody tr th:only-of-type {\n        vertical-align: middle;\n    }\n\n    .dataframe tbody tr th {\n        vertical-align: top;\n    }\n\n    .dataframe thead th {\n        text-align: right;\n    }\n</style>\n<table border=\"1\" class=\"dataframe\">\n  <thead>\n    <tr style=\"text-align: right;\">\n      <th></th>\n      <th>listing_id</th>\n      <th>name</th>\n      <th>city</th>\n      <th>price</th>\n      <th>instant_bookable</th>\n    </tr>\n  </thead>\n  <tbody>\n    <tr>\n      <th>0</th>\n      <td>281420</td>\n      <td>Beautiful Flat in le Village Montmartre, Paris</td>\n      <td>Paris</td>\n      <td>53</td>\n      <td>False</td>\n    </tr>\n    <tr>\n      <th>1</th>\n      <td>3705183</td>\n      <td>39 mÂ² Paris (Sacre CÅ“ur)</td>\n      <td>Paris</td>\n      <td>120</td>\n      <td>False</td>\n    </tr>\n    <tr>\n      <th>2</th>\n      <td>4082273</td>\n      <td>Lovely apartment with Terrace, 60m2</td>\n      <td>Paris</td>\n      <td>89</td>\n      <td>False</td>\n    </tr>\n    <tr>\n      <th>3</th>\n      <td>4797344</td>\n      <td>Cosy studio (close to Eiffel tower)</td>\n      <td>Paris</td>\n      <td>58</td>\n      <td>False</td>\n    </tr>\n    <tr>\n      <th>4</th>\n      <td>4823489</td>\n      <td>Close to Eiffel Tower - Beautiful flat : 2 rooms</td>\n      <td>Paris</td>\n      <td>60</td>\n      <td>False</td>\n    </tr>\n    <tr>\n      <th>...</th>\n      <td>...</td>\n      <td>...</td>\n      <td>...</td>\n      <td>...</td>\n      <td>...</td>\n    </tr>\n    <tr>\n      <th>279707</th>\n      <td>38338635</td>\n      <td>Appartement T2 neuf prÃ¨s du tram T3a Porte Didot</td>\n      <td>Paris</td>\n      <td>120</td>\n      <td>False</td>\n    </tr>\n    <tr>\n      <th>279708</th>\n      <td>38538692</td>\n      <td>Cozy Studio in Montmartre</td>\n      <td>Paris</td>\n      <td>60</td>\n      <td>False</td>\n    </tr>\n    <tr>\n      <th>279709</th>\n      <td>38683356</td>\n      <td>Nice and cosy mini-appartement in Paris</td>\n      <td>Paris</td>\n      <td>50</td>\n      <td>False</td>\n    </tr>\n    <tr>\n      <th>279710</th>\n      <td>39659000</td>\n      <td>Charming apartment near Rue Saint Maur / Oberk...</td>\n      <td>Paris</td>\n      <td>105</td>\n      <td>False</td>\n    </tr>\n    <tr>\n      <th>279711</th>\n      <td>40219504</td>\n      <td>Cosy apartment with view on Canal St Martin</td>\n      <td>Paris</td>\n      <td>70</td>\n      <td>False</td>\n    </tr>\n  </tbody>\n</table>\n<p>279712 rows × 5 columns</p>\n</div>"
     },
     "execution_count": 54,
     "metadata": {},
     "output_type": "execute_result"
    }
   ],
   "source": [
    "dfstripped = df[['listing_id','name','city','price', 'instant_bookable']]\n",
    "dfstripped"
   ],
   "metadata": {
    "collapsed": false
   },
   "id": "5df756001f0f661f",
   "execution_count": 54
  },
  {
   "cell_type": "markdown",
   "source": [
    "Then we will add the reviews dataframe"
   ],
   "metadata": {
    "collapsed": false
   },
   "id": "41e2b94d2ecc3171"
  },
  {
   "cell_type": "code",
   "outputs": [
    {
     "data": {
      "text/plain": "         listing_id  review_id        date  reviewer_id\n0             11798  330265172  2018-09-30     11863072\n1             15383  330103585  2018-09-30     39147453\n2             16455  329985788  2018-09-30      1125378\n3             17919  330016899  2018-09-30    172717984\n4             26827  329995638  2018-09-30     17542859\n...             ...        ...         ...          ...\n5373138    47779342  726766332  2021-01-25    283094516\n5373139    47823964  727963021  2021-01-31     76411977\n5373140    47896175  728548625  2021-02-02     71370946\n5373141    47900451  727399287  2021-01-29    109011160\n5373142    47998038  730320626  2021-02-11    276790978\n\n[5373143 rows x 4 columns]",
      "text/html": "<div>\n<style scoped>\n    .dataframe tbody tr th:only-of-type {\n        vertical-align: middle;\n    }\n\n    .dataframe tbody tr th {\n        vertical-align: top;\n    }\n\n    .dataframe thead th {\n        text-align: right;\n    }\n</style>\n<table border=\"1\" class=\"dataframe\">\n  <thead>\n    <tr style=\"text-align: right;\">\n      <th></th>\n      <th>listing_id</th>\n      <th>review_id</th>\n      <th>date</th>\n      <th>reviewer_id</th>\n    </tr>\n  </thead>\n  <tbody>\n    <tr>\n      <th>0</th>\n      <td>11798</td>\n      <td>330265172</td>\n      <td>2018-09-30</td>\n      <td>11863072</td>\n    </tr>\n    <tr>\n      <th>1</th>\n      <td>15383</td>\n      <td>330103585</td>\n      <td>2018-09-30</td>\n      <td>39147453</td>\n    </tr>\n    <tr>\n      <th>2</th>\n      <td>16455</td>\n      <td>329985788</td>\n      <td>2018-09-30</td>\n      <td>1125378</td>\n    </tr>\n    <tr>\n      <th>3</th>\n      <td>17919</td>\n      <td>330016899</td>\n      <td>2018-09-30</td>\n      <td>172717984</td>\n    </tr>\n    <tr>\n      <th>4</th>\n      <td>26827</td>\n      <td>329995638</td>\n      <td>2018-09-30</td>\n      <td>17542859</td>\n    </tr>\n    <tr>\n      <th>...</th>\n      <td>...</td>\n      <td>...</td>\n      <td>...</td>\n      <td>...</td>\n    </tr>\n    <tr>\n      <th>5373138</th>\n      <td>47779342</td>\n      <td>726766332</td>\n      <td>2021-01-25</td>\n      <td>283094516</td>\n    </tr>\n    <tr>\n      <th>5373139</th>\n      <td>47823964</td>\n      <td>727963021</td>\n      <td>2021-01-31</td>\n      <td>76411977</td>\n    </tr>\n    <tr>\n      <th>5373140</th>\n      <td>47896175</td>\n      <td>728548625</td>\n      <td>2021-02-02</td>\n      <td>71370946</td>\n    </tr>\n    <tr>\n      <th>5373141</th>\n      <td>47900451</td>\n      <td>727399287</td>\n      <td>2021-01-29</td>\n      <td>109011160</td>\n    </tr>\n    <tr>\n      <th>5373142</th>\n      <td>47998038</td>\n      <td>730320626</td>\n      <td>2021-02-11</td>\n      <td>276790978</td>\n    </tr>\n  </tbody>\n</table>\n<p>5373143 rows × 4 columns</p>\n</div>"
     },
     "execution_count": 55,
     "metadata": {},
     "output_type": "execute_result"
    }
   ],
   "source": [
    "dfr = pd.read_csv('../Airbnb_Data/Reviews.csv', sep = ',')\n",
    "dfr"
   ],
   "metadata": {
    "collapsed": false
   },
   "id": "dbd3525e1759cdd9",
   "execution_count": 55
  },
  {
   "cell_type": "markdown",
   "source": [
    "we combine the reduced dataframe with the reviews dataset"
   ],
   "metadata": {
    "collapsed": false
   },
   "id": "31bf25d691d64a10"
  },
  {
   "cell_type": "code",
   "outputs": [
    {
     "data": {
      "text/plain": "         listing_id                                               name   city  \\\n0            281420     Beautiful Flat in le Village Montmartre, Paris  Paris   \n1            281420     Beautiful Flat in le Village Montmartre, Paris  Paris   \n2           3705183                         39 mÂ² Paris (Sacre CÅ“ur)  Paris   \n3           3705183                         39 mÂ² Paris (Sacre CÅ“ur)  Paris   \n4           3705183                         39 mÂ² Paris (Sacre CÅ“ur)  Paris   \n...             ...                                                ...    ...   \n5373138    38683356            Nice and cosy mini-appartement in Paris  Paris   \n5373139    38683356            Nice and cosy mini-appartement in Paris  Paris   \n5373140    39659000  Charming apartment near Rue Saint Maur / Oberk...  Paris   \n5373141    40219504        Cosy apartment with view on Canal St Martin  Paris   \n5373142    40219504        Cosy apartment with view on Canal St Martin  Paris   \n\n         price  instant_bookable  review_id        date  reviewer_id  \n0           53             False  173279221  2017-07-23      3501898  \n1           53             False  172657766  2017-07-21     74346703  \n2          120             False   20792760  2014-10-05     21583508  \n3          120             False   32282670  2015-05-16     32285553  \n4          120             False   45645391  2015-09-04     34310199  \n...        ...               ...        ...         ...          ...  \n5373138     50             False  532395580  2019-09-19     10347403  \n5373139     50             False  553159713  2019-10-23    197011717  \n5373140    105             False  556350613  2019-10-29    102836346  \n5373141     70             False  597833586  2020-01-26     21707358  \n5373142     70             False  603384165  2020-02-09     76518059  \n\n[5373143 rows x 8 columns]",
      "text/html": "<div>\n<style scoped>\n    .dataframe tbody tr th:only-of-type {\n        vertical-align: middle;\n    }\n\n    .dataframe tbody tr th {\n        vertical-align: top;\n    }\n\n    .dataframe thead th {\n        text-align: right;\n    }\n</style>\n<table border=\"1\" class=\"dataframe\">\n  <thead>\n    <tr style=\"text-align: right;\">\n      <th></th>\n      <th>listing_id</th>\n      <th>name</th>\n      <th>city</th>\n      <th>price</th>\n      <th>instant_bookable</th>\n      <th>review_id</th>\n      <th>date</th>\n      <th>reviewer_id</th>\n    </tr>\n  </thead>\n  <tbody>\n    <tr>\n      <th>0</th>\n      <td>281420</td>\n      <td>Beautiful Flat in le Village Montmartre, Paris</td>\n      <td>Paris</td>\n      <td>53</td>\n      <td>False</td>\n      <td>173279221</td>\n      <td>2017-07-23</td>\n      <td>3501898</td>\n    </tr>\n    <tr>\n      <th>1</th>\n      <td>281420</td>\n      <td>Beautiful Flat in le Village Montmartre, Paris</td>\n      <td>Paris</td>\n      <td>53</td>\n      <td>False</td>\n      <td>172657766</td>\n      <td>2017-07-21</td>\n      <td>74346703</td>\n    </tr>\n    <tr>\n      <th>2</th>\n      <td>3705183</td>\n      <td>39 mÂ² Paris (Sacre CÅ“ur)</td>\n      <td>Paris</td>\n      <td>120</td>\n      <td>False</td>\n      <td>20792760</td>\n      <td>2014-10-05</td>\n      <td>21583508</td>\n    </tr>\n    <tr>\n      <th>3</th>\n      <td>3705183</td>\n      <td>39 mÂ² Paris (Sacre CÅ“ur)</td>\n      <td>Paris</td>\n      <td>120</td>\n      <td>False</td>\n      <td>32282670</td>\n      <td>2015-05-16</td>\n      <td>32285553</td>\n    </tr>\n    <tr>\n      <th>4</th>\n      <td>3705183</td>\n      <td>39 mÂ² Paris (Sacre CÅ“ur)</td>\n      <td>Paris</td>\n      <td>120</td>\n      <td>False</td>\n      <td>45645391</td>\n      <td>2015-09-04</td>\n      <td>34310199</td>\n    </tr>\n    <tr>\n      <th>...</th>\n      <td>...</td>\n      <td>...</td>\n      <td>...</td>\n      <td>...</td>\n      <td>...</td>\n      <td>...</td>\n      <td>...</td>\n      <td>...</td>\n    </tr>\n    <tr>\n      <th>5373138</th>\n      <td>38683356</td>\n      <td>Nice and cosy mini-appartement in Paris</td>\n      <td>Paris</td>\n      <td>50</td>\n      <td>False</td>\n      <td>532395580</td>\n      <td>2019-09-19</td>\n      <td>10347403</td>\n    </tr>\n    <tr>\n      <th>5373139</th>\n      <td>38683356</td>\n      <td>Nice and cosy mini-appartement in Paris</td>\n      <td>Paris</td>\n      <td>50</td>\n      <td>False</td>\n      <td>553159713</td>\n      <td>2019-10-23</td>\n      <td>197011717</td>\n    </tr>\n    <tr>\n      <th>5373140</th>\n      <td>39659000</td>\n      <td>Charming apartment near Rue Saint Maur / Oberk...</td>\n      <td>Paris</td>\n      <td>105</td>\n      <td>False</td>\n      <td>556350613</td>\n      <td>2019-10-29</td>\n      <td>102836346</td>\n    </tr>\n    <tr>\n      <th>5373141</th>\n      <td>40219504</td>\n      <td>Cosy apartment with view on Canal St Martin</td>\n      <td>Paris</td>\n      <td>70</td>\n      <td>False</td>\n      <td>597833586</td>\n      <td>2020-01-26</td>\n      <td>21707358</td>\n    </tr>\n    <tr>\n      <th>5373142</th>\n      <td>40219504</td>\n      <td>Cosy apartment with view on Canal St Martin</td>\n      <td>Paris</td>\n      <td>70</td>\n      <td>False</td>\n      <td>603384165</td>\n      <td>2020-02-09</td>\n      <td>76518059</td>\n    </tr>\n  </tbody>\n</table>\n<p>5373143 rows × 8 columns</p>\n</div>"
     },
     "execution_count": 56,
     "metadata": {},
     "output_type": "execute_result"
    }
   ],
   "source": [
    "df_combined = pd.merge(dfstripped, dfr, on=[\"listing_id\"])\n",
    "df_combined\n",
    "# inner_merged_total = pd.merge(\n",
    "#     ...     climate_temp, climate_precip, on=[\"STATION\", \"DATE\"]\n",
    "# ... )"
   ],
   "metadata": {
    "collapsed": false
   },
   "id": "f0a35a58021550b6",
   "execution_count": 56
  },
  {
   "cell_type": "markdown",
   "source": [
    "We count how many reviews each listing have and put them in a series"
   ],
   "metadata": {
    "collapsed": false
   },
   "id": "77eec390eab9db48"
  },
  {
   "cell_type": "code",
   "outputs": [
    {
     "data": {
      "text/plain": "listing_id\n2577         1\n2595        48\n2737         7\n2903        55\n3079        17\n            ..\n48229422     1\n48242873     1\n48255009     1\n48256649     1\n48263869     1\nLength: 193556, dtype: int64"
     },
     "execution_count": 61,
     "metadata": {},
     "output_type": "execute_result"
    }
   ],
   "source": [
    "counts = df_combined.groupby('listing_id').size()\n",
    "counts"
   ],
   "metadata": {
    "collapsed": false
   },
   "id": "8ed4084d814fe167",
   "execution_count": 61
  },
  {
   "cell_type": "markdown",
   "source": [
    "we merge that series onto the listings dataset as number_of_reviews column"
   ],
   "metadata": {
    "collapsed": false
   },
   "id": "85ba33aade8ae0cb"
  },
  {
   "cell_type": "code",
   "outputs": [
    {
     "data": {
      "text/plain": "        listing_id                                               name  \\\n0           281420     Beautiful Flat in le Village Montmartre, Paris   \n1          3705183                         39 mÂ² Paris (Sacre CÅ“ur)   \n2          4082273                Lovely apartment with Terrace, 60m2   \n3          4797344                Cosy studio (close to Eiffel tower)   \n4          4823489   Close to Eiffel Tower - Beautiful flat : 2 rooms   \n...            ...                                                ...   \n193551    38338635  Appartement T2 neuf prÃ¨s du tram T3a Porte Didot   \n193552    38538692                          Cozy Studio in Montmartre   \n193553    38683356            Nice and cosy mini-appartement in Paris   \n193554    39659000  Charming apartment near Rue Saint Maur / Oberk...   \n193555    40219504        Cosy apartment with view on Canal St Martin   \n\n         host_id  host_since                 host_location host_response_time  \\\n0        1466919   12/3/2011  Paris, Ile-de-France, France     within an hour   \n1       10328771  11/29/2013  Paris, Ile-de-France, France     within an hour   \n2       19252768   7/31/2014  Paris, Ile-de-France, France     within an hour   \n3       10668311  12/17/2013  Paris, Ile-de-France, France     within an hour   \n4       24837558  12/14/2014  Paris, Ile-de-France, France     within an hour   \n...          ...         ...                           ...                ...   \n193551  31161181   4/13/2015  Paris, Ile-de-France, France     within an hour   \n193552  10294858  11/27/2013  Paris, Ile-de-France, France     within an hour   \n193553   2238502   4/27/2012  Paris, Ile-de-France, France     within an hour   \n193554  38633695   7/16/2015  Paris, Ile-de-France, France     within an hour   \n193555   6955618   6/17/2013  Paris, Ile-de-France, France     within an hour   \n\n        host_response_rate  host_acceptance_rate  host_is_superhost  \\\n0                      1.0                   1.0              False   \n1                      1.0                   1.0              False   \n2                      1.0                   1.0              False   \n3                      1.0                   1.0              False   \n4                      1.0                   1.0              False   \n...                    ...                   ...                ...   \n193551                 1.0                   1.0              False   \n193552                 1.0                   1.0              False   \n193553                 1.0                   1.0              False   \n193554                 1.0                   1.0              False   \n193555                 1.0                   1.0              False   \n\n        host_total_listings_count  ...  maximum_nights  review_scores_rating  \\\n0                               1  ...            1125                 100.0   \n1                               1  ...            1125                 100.0   \n2                               1  ...            1125                 100.0   \n3                               1  ...            1125                 100.0   \n4                               1  ...            1125                 100.0   \n...                           ...  ...             ...                   ...   \n193551                          1  ...               7                 100.0   \n193552                          1  ...              15                 100.0   \n193553                          1  ...              30                 100.0   \n193554                          1  ...              18                 100.0   \n193555                          1  ...               4                 100.0   \n\n       review_scores_accuracy review_scores_cleanliness  \\\n0                        10.0                      10.0   \n1                        10.0                      10.0   \n2                        10.0                      10.0   \n3                        10.0                      10.0   \n4                        10.0                      10.0   \n...                       ...                       ...   \n193551                   10.0                      10.0   \n193552                   10.0                      10.0   \n193553                   10.0                      10.0   \n193554                   10.0                      10.0   \n193555                   10.0                      10.0   \n\n        review_scores_checkin  review_scores_communication  \\\n0                        10.0                         10.0   \n1                        10.0                         10.0   \n2                        10.0                         10.0   \n3                        10.0                         10.0   \n4                        10.0                         10.0   \n...                       ...                          ...   \n193551                   10.0                         10.0   \n193552                   10.0                         10.0   \n193553                   10.0                         10.0   \n193554                   10.0                         10.0   \n193555                   10.0                         10.0   \n\n       review_scores_location review_scores_value  instant_bookable  \\\n0                        10.0                10.0             False   \n1                        10.0                10.0             False   \n2                        10.0                10.0             False   \n3                        10.0                10.0             False   \n4                        10.0                10.0             False   \n...                       ...                 ...               ...   \n193551                   10.0                10.0             False   \n193552                   10.0                10.0             False   \n193553                   10.0                10.0             False   \n193554                   10.0                10.0             False   \n193555                   10.0                10.0             False   \n\n        number_of_reviews  \n0                       2  \n1                       6  \n2                       1  \n3                       1  \n4                       1  \n...                   ...  \n193551                  2  \n193552                  2  \n193553                  3  \n193554                  1  \n193555                  2  \n\n[193556 rows x 33 columns]",
      "text/html": "<div>\n<style scoped>\n    .dataframe tbody tr th:only-of-type {\n        vertical-align: middle;\n    }\n\n    .dataframe tbody tr th {\n        vertical-align: top;\n    }\n\n    .dataframe thead th {\n        text-align: right;\n    }\n</style>\n<table border=\"1\" class=\"dataframe\">\n  <thead>\n    <tr style=\"text-align: right;\">\n      <th></th>\n      <th>listing_id</th>\n      <th>name</th>\n      <th>host_id</th>\n      <th>host_since</th>\n      <th>host_location</th>\n      <th>host_response_time</th>\n      <th>host_response_rate</th>\n      <th>host_acceptance_rate</th>\n      <th>host_is_superhost</th>\n      <th>host_total_listings_count</th>\n      <th>...</th>\n      <th>maximum_nights</th>\n      <th>review_scores_rating</th>\n      <th>review_scores_accuracy</th>\n      <th>review_scores_cleanliness</th>\n      <th>review_scores_checkin</th>\n      <th>review_scores_communication</th>\n      <th>review_scores_location</th>\n      <th>review_scores_value</th>\n      <th>instant_bookable</th>\n      <th>number_of_reviews</th>\n    </tr>\n  </thead>\n  <tbody>\n    <tr>\n      <th>0</th>\n      <td>281420</td>\n      <td>Beautiful Flat in le Village Montmartre, Paris</td>\n      <td>1466919</td>\n      <td>12/3/2011</td>\n      <td>Paris, Ile-de-France, France</td>\n      <td>within an hour</td>\n      <td>1.0</td>\n      <td>1.0</td>\n      <td>False</td>\n      <td>1</td>\n      <td>...</td>\n      <td>1125</td>\n      <td>100.0</td>\n      <td>10.0</td>\n      <td>10.0</td>\n      <td>10.0</td>\n      <td>10.0</td>\n      <td>10.0</td>\n      <td>10.0</td>\n      <td>False</td>\n      <td>2</td>\n    </tr>\n    <tr>\n      <th>1</th>\n      <td>3705183</td>\n      <td>39 mÂ² Paris (Sacre CÅ“ur)</td>\n      <td>10328771</td>\n      <td>11/29/2013</td>\n      <td>Paris, Ile-de-France, France</td>\n      <td>within an hour</td>\n      <td>1.0</td>\n      <td>1.0</td>\n      <td>False</td>\n      <td>1</td>\n      <td>...</td>\n      <td>1125</td>\n      <td>100.0</td>\n      <td>10.0</td>\n      <td>10.0</td>\n      <td>10.0</td>\n      <td>10.0</td>\n      <td>10.0</td>\n      <td>10.0</td>\n      <td>False</td>\n      <td>6</td>\n    </tr>\n    <tr>\n      <th>2</th>\n      <td>4082273</td>\n      <td>Lovely apartment with Terrace, 60m2</td>\n      <td>19252768</td>\n      <td>7/31/2014</td>\n      <td>Paris, Ile-de-France, France</td>\n      <td>within an hour</td>\n      <td>1.0</td>\n      <td>1.0</td>\n      <td>False</td>\n      <td>1</td>\n      <td>...</td>\n      <td>1125</td>\n      <td>100.0</td>\n      <td>10.0</td>\n      <td>10.0</td>\n      <td>10.0</td>\n      <td>10.0</td>\n      <td>10.0</td>\n      <td>10.0</td>\n      <td>False</td>\n      <td>1</td>\n    </tr>\n    <tr>\n      <th>3</th>\n      <td>4797344</td>\n      <td>Cosy studio (close to Eiffel tower)</td>\n      <td>10668311</td>\n      <td>12/17/2013</td>\n      <td>Paris, Ile-de-France, France</td>\n      <td>within an hour</td>\n      <td>1.0</td>\n      <td>1.0</td>\n      <td>False</td>\n      <td>1</td>\n      <td>...</td>\n      <td>1125</td>\n      <td>100.0</td>\n      <td>10.0</td>\n      <td>10.0</td>\n      <td>10.0</td>\n      <td>10.0</td>\n      <td>10.0</td>\n      <td>10.0</td>\n      <td>False</td>\n      <td>1</td>\n    </tr>\n    <tr>\n      <th>4</th>\n      <td>4823489</td>\n      <td>Close to Eiffel Tower - Beautiful flat : 2 rooms</td>\n      <td>24837558</td>\n      <td>12/14/2014</td>\n      <td>Paris, Ile-de-France, France</td>\n      <td>within an hour</td>\n      <td>1.0</td>\n      <td>1.0</td>\n      <td>False</td>\n      <td>1</td>\n      <td>...</td>\n      <td>1125</td>\n      <td>100.0</td>\n      <td>10.0</td>\n      <td>10.0</td>\n      <td>10.0</td>\n      <td>10.0</td>\n      <td>10.0</td>\n      <td>10.0</td>\n      <td>False</td>\n      <td>1</td>\n    </tr>\n    <tr>\n      <th>...</th>\n      <td>...</td>\n      <td>...</td>\n      <td>...</td>\n      <td>...</td>\n      <td>...</td>\n      <td>...</td>\n      <td>...</td>\n      <td>...</td>\n      <td>...</td>\n      <td>...</td>\n      <td>...</td>\n      <td>...</td>\n      <td>...</td>\n      <td>...</td>\n      <td>...</td>\n      <td>...</td>\n      <td>...</td>\n      <td>...</td>\n      <td>...</td>\n      <td>...</td>\n      <td>...</td>\n    </tr>\n    <tr>\n      <th>193551</th>\n      <td>38338635</td>\n      <td>Appartement T2 neuf prÃ¨s du tram T3a Porte Didot</td>\n      <td>31161181</td>\n      <td>4/13/2015</td>\n      <td>Paris, Ile-de-France, France</td>\n      <td>within an hour</td>\n      <td>1.0</td>\n      <td>1.0</td>\n      <td>False</td>\n      <td>1</td>\n      <td>...</td>\n      <td>7</td>\n      <td>100.0</td>\n      <td>10.0</td>\n      <td>10.0</td>\n      <td>10.0</td>\n      <td>10.0</td>\n      <td>10.0</td>\n      <td>10.0</td>\n      <td>False</td>\n      <td>2</td>\n    </tr>\n    <tr>\n      <th>193552</th>\n      <td>38538692</td>\n      <td>Cozy Studio in Montmartre</td>\n      <td>10294858</td>\n      <td>11/27/2013</td>\n      <td>Paris, Ile-de-France, France</td>\n      <td>within an hour</td>\n      <td>1.0</td>\n      <td>1.0</td>\n      <td>False</td>\n      <td>1</td>\n      <td>...</td>\n      <td>15</td>\n      <td>100.0</td>\n      <td>10.0</td>\n      <td>10.0</td>\n      <td>10.0</td>\n      <td>10.0</td>\n      <td>10.0</td>\n      <td>10.0</td>\n      <td>False</td>\n      <td>2</td>\n    </tr>\n    <tr>\n      <th>193553</th>\n      <td>38683356</td>\n      <td>Nice and cosy mini-appartement in Paris</td>\n      <td>2238502</td>\n      <td>4/27/2012</td>\n      <td>Paris, Ile-de-France, France</td>\n      <td>within an hour</td>\n      <td>1.0</td>\n      <td>1.0</td>\n      <td>False</td>\n      <td>1</td>\n      <td>...</td>\n      <td>30</td>\n      <td>100.0</td>\n      <td>10.0</td>\n      <td>10.0</td>\n      <td>10.0</td>\n      <td>10.0</td>\n      <td>10.0</td>\n      <td>10.0</td>\n      <td>False</td>\n      <td>3</td>\n    </tr>\n    <tr>\n      <th>193554</th>\n      <td>39659000</td>\n      <td>Charming apartment near Rue Saint Maur / Oberk...</td>\n      <td>38633695</td>\n      <td>7/16/2015</td>\n      <td>Paris, Ile-de-France, France</td>\n      <td>within an hour</td>\n      <td>1.0</td>\n      <td>1.0</td>\n      <td>False</td>\n      <td>1</td>\n      <td>...</td>\n      <td>18</td>\n      <td>100.0</td>\n      <td>10.0</td>\n      <td>10.0</td>\n      <td>10.0</td>\n      <td>10.0</td>\n      <td>10.0</td>\n      <td>10.0</td>\n      <td>False</td>\n      <td>1</td>\n    </tr>\n    <tr>\n      <th>193555</th>\n      <td>40219504</td>\n      <td>Cosy apartment with view on Canal St Martin</td>\n      <td>6955618</td>\n      <td>6/17/2013</td>\n      <td>Paris, Ile-de-France, France</td>\n      <td>within an hour</td>\n      <td>1.0</td>\n      <td>1.0</td>\n      <td>False</td>\n      <td>1</td>\n      <td>...</td>\n      <td>4</td>\n      <td>100.0</td>\n      <td>10.0</td>\n      <td>10.0</td>\n      <td>10.0</td>\n      <td>10.0</td>\n      <td>10.0</td>\n      <td>10.0</td>\n      <td>False</td>\n      <td>2</td>\n    </tr>\n  </tbody>\n</table>\n<p>193556 rows × 33 columns</p>\n</div>"
     },
     "execution_count": 60,
     "metadata": {},
     "output_type": "execute_result"
    }
   ],
   "source": [
    "df.merge(counts.rename('number_of_reviews'), on=['listing_id'])"
   ],
   "metadata": {
    "collapsed": false
   },
   "id": "187eeea1a5b27b97",
   "execution_count": 60
  }
 ],
 "metadata": {
  "kernelspec": {
   "display_name": "Python 3",
   "language": "python",
   "name": "python3"
  },
  "language_info": {
   "codemirror_mode": {
    "name": "ipython",
    "version": 2
   },
   "file_extension": ".py",
   "mimetype": "text/x-python",
   "name": "python",
   "nbconvert_exporter": "python",
   "pygments_lexer": "ipython2",
   "version": "2.7.6"
  }
 },
 "nbformat": 4,
 "nbformat_minor": 5
}
